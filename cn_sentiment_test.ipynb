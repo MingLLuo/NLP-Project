{
 "cells": [
  {
   "cell_type": "code",
   "execution_count": 1,
   "metadata": {},
   "outputs": [],
   "source": [
    "import torch\n",
    "import torch.nn as nn\n",
    "from torch.utils.data import DataLoader\n",
    "from torch.utils.data import Dataset\n",
    "import pandas as pd\n",
    "import jieba\n",
    "from tqdm import tqdm\n",
    "from torch.nn.utils.rnn import pack_padded_sequence\n",
    "from torch.nn.utils.rnn import pad_sequence\n",
    "from collections import defaultdict\n",
    "from torch import optim\n",
    "from torch.nn import functional as F\n",
    "import pickle\n"
   ]
  },
  {
   "cell_type": "code",
   "execution_count": 9,
   "metadata": {},
   "outputs": [],
   "source": [
    "# 该类用于实现token到索引的映射\n",
    "class Vocab:\n",
    "\n",
    "    def __init__(self, tokens=None) -> None:\n",
    "        # 构造函数\n",
    "        # tokens：全部的token列表\n",
    "\n",
    "        self.idx_to_token = list()\n",
    "        # 将token存成列表，索引直接查找对应的token即可\n",
    "        self.token_to_idx = dict()\n",
    "        # 将索引到token的映射关系存成字典，键为索引，值为对应的token\n",
    "\n",
    "        if tokens is not None:\n",
    "            # 构造时输入了token的列表\n",
    "            if \"<unk>\" not in tokens:\n",
    "                # 不存在标记\n",
    "                tokens = tokens + \"<unk>\"\n",
    "            for token in tokens:\n",
    "                self.idx_to_token.append(token)\n",
    "                self.token_to_idx[token] = len(self.idx_to_token) - 1\n",
    "                # 当前该token对应的索引是当下列表的最后一个\n",
    "            self.unk = self.token_to_idx[\"<unk>\"]\n",
    "\n",
    "    @classmethod\n",
    "    def build(cls, data, min_freq=1, reserved_tokens=None, stop_words='../dataset/cn_stopwords.txt'):\n",
    "        # 构建词表\n",
    "        # cls：该类本身\n",
    "        # data: 输入的文本数据\n",
    "        # min_freq：列入token的最小频率\n",
    "        # reserved_tokens：额外的标记token\n",
    "        # stop_words：停用词文件路径\n",
    "        token_freqs = defaultdict(int)\n",
    "        stopwords = open(stop_words, encoding=\"utf-8\").read().split('\\n')\n",
    "        for i in tqdm(range(data.shape[0]), desc=f\"Building vocab\"):\n",
    "            review_tokens = jieba.lcut(str(data.iloc[i][\"review\"]))\n",
    "            for token in review_tokens:\n",
    "                if token in stopwords:\n",
    "                    continue\n",
    "                token_freqs[token] += 1\n",
    "        # 统计各个token的频率\n",
    "        uniq_tokens = [\"<unk>\"] + (reserved_tokens if reserved_tokens else [])\n",
    "        # 加入额外的token\n",
    "        uniq_tokens += [token for token, freq in token_freqs.items() \\\n",
    "                        if freq >= min_freq and token != \"<unk>\"]\n",
    "        # 全部的token列表\n",
    "        return cls(uniq_tokens)\n",
    "\n",
    "    def __len__(self):\n",
    "        # 返回词表的大小\n",
    "        return len(self.idx_to_token)\n",
    "\n",
    "    def __getitem__(self, token):\n",
    "        # 查找输入token对应的索引，不存在则返回<unk>返回的索引\n",
    "        return self.token_to_idx.get(token, self.unk)\n",
    "\n",
    "    def convert_tokens_to_ids(self, tokens):\n",
    "        # 查找一系列输入标签对应的索引值\n",
    "        return [self[token] for token in tokens]\n",
    "\n",
    "    def convert_ids_to_tokens(self, ids):\n",
    "        # 查找一系列索引值对应的标记\n",
    "        return [self.idx_to_token[index] for index in ids]\n",
    "\n"
   ]
  },
  {
   "cell_type": "code",
   "execution_count": 32,
   "metadata": {},
   "outputs": [],
   "source": [
    "'''数据集构建函数'''\n",
    "\n",
    "\n",
    "def build_data(data_path: str):\n",
    "    '''\n",
    "    Args:\n",
    "       data_path:待读取本地数据的路径 \n",
    "    Returns:\n",
    "       训练集、测试集、词表\n",
    "    '''\n",
    "    whole_data = pd.read_csv(data_path,encoding=\"utf-8\")\n",
    "    # 读取数据为 DataFrame 类型\n",
    "    vocab = Vocab.build(whole_data)\n",
    "    # 构建词表\n",
    "\n",
    "    train_data = [(vocab.convert_tokens_to_ids(sentence), 1) for sentence in\n",
    "                  whole_data[whole_data[\"label\"] == 1][:30000][\"review\"]] \\\n",
    "                 + [(vocab.convert_tokens_to_ids(sentence), 0) for sentence in\n",
    "                    whole_data[whole_data[\"label\"] == 0][:30000][\"review\"]]\n",
    "    # 分别取褒贬各30000句作为训练数据，将token映射为对应的索引值\n",
    "\n",
    "    test_data = [(vocab.convert_tokens_to_ids(sentence), 1) for sentence in\n",
    "                 whole_data[whole_data[\"label\"] == 1][30000:][\"review\"]] \\\n",
    "                + [(vocab.convert_tokens_to_ids(sentence), 0) for sentence in\n",
    "                   whole_data[whole_data[\"label\"] == 0][30000:][\"review\"]]\n",
    "    # 其余数据作为测试数据\n",
    "\n",
    "    return train_data, test_data, vocab\n",
    "\n"
   ]
  },
  {
   "cell_type": "code",
   "execution_count": 4,
   "metadata": {},
   "outputs": [],
   "source": [
    "\n",
    "'''声明一个 DataSet 类'''\n",
    "\n",
    "\n",
    "class MyDataset(Dataset):\n",
    "\n",
    "    def __init__(self, data) -> None:\n",
    "        # data：使用词表映射之后的数据\n",
    "        self.data = data\n",
    "\n",
    "    def __len__(self):\n",
    "        # 返回样例的数目\n",
    "        return len(self.data)\n",
    "\n",
    "    def __getitem__(self, index):\n",
    "        return self.data[index]\n",
    "\n",
    "\n",
    "\n"
   ]
  },
  {
   "cell_type": "code",
   "execution_count": 5,
   "metadata": {},
   "outputs": [],
   "source": [
    "'''声明一个collate_fn函数，用于对一个批次的样本进行整理'''\n",
    "\n",
    "\n",
    "def collate_fn(examples):\n",
    "    # 从独立样本集合中构建各批次的输入输出\n",
    "    lengths = torch.tensor([len(ex[0]) for ex in examples])\n",
    "    # 获取每个序列的长度\n",
    "    inputs = [torch.tensor(ex[0]) for ex in examples]\n",
    "    # 将输入inputs定义为一个张量的列表，每一个张量为句子对应的索引值序列\n",
    "    targets = torch.tensor([ex[1] for ex in examples], dtype=torch.long)\n",
    "    # 目标targets为该批次所有样例输出结果构成的张量\n",
    "    inputs = pad_sequence(inputs, batch_first=True)\n",
    "    # 将用pad_sequence对批次类的样本进行补齐\n",
    "    return inputs, lengths, targets\n",
    "\n"
   ]
  },
  {
   "cell_type": "code",
   "execution_count": 6,
   "metadata": {},
   "outputs": [],
   "source": [
    "\n",
    "'''创建一个LSTM类作为模型'''\n",
    "\n",
    "\n",
    "class LSTM(nn.Module):\n",
    "    # 基类为nn.Module\n",
    "    def __init__(self, vocab_size, embedding_dim, hidden_dim, num_class):\n",
    "        # 构造函数\n",
    "        # vocab_size:词表大小\n",
    "        # embedding_dim：词向量维度\n",
    "        # hidden_dim：隐藏层维度\n",
    "        # num_class:多分类个数\n",
    "        super(LSTM, self).__init__()\n",
    "\n",
    "        self.embedding = nn.Embedding(vocab_size, embedding_dim)\n",
    "        # 词向量层\n",
    "        self.lstm = nn.LSTM(embedding_dim, hidden_dim, batch_first=True)\n",
    "        # lstm层\n",
    "        self.output = nn.Linear(hidden_dim, num_class)\n",
    "        # 输出层，线性变换\n",
    "\n",
    "    def forward(self, inputs, lengths):\n",
    "        # 前向计算函数\n",
    "        # inputs:输入\n",
    "        # lengths:打包的序列长度\n",
    "        # print(f\"输入为：{inputs.size()}\")\n",
    "        embeds = self.embedding(inputs)\n",
    "        # 注意这儿是词向量层，不是词袋词向量层\n",
    "        # print(f\"词向量层输出为：{embeds.size()}\")\n",
    "        x_pack = pack_padded_sequence(embeds, lengths.to('cpu'), batch_first=True, enforce_sorted=False)\n",
    "        # LSTM需要定长序列，使用该函数将变长序列打包\n",
    "        # print(f\"经过打包为：{x_pack.size()}\")\n",
    "        hidden, (hn, cn) = self.lstm(x_pack)\n",
    "        # print(f\"经过lstm计算后为：{hn.size()}\")\n",
    "        outputs = self.output(hn[-1])\n",
    "        # print(f\"输出层输出为：{outputs.size()}\")\n",
    "        log_probs = F.log_softmax(outputs, dim=-1)\n",
    "        # print(f\"输出概率值为：{probs}\")\n",
    "        # 归一化为概率值\n",
    "        return log_probs\n"
   ]
  },
  {
   "attachments": {},
   "cell_type": "markdown",
   "metadata": {},
   "source": [
    "训练参数的设置\n",
    "词表的构建\n",
    "文件的读取"
   ]
  },
  {
   "cell_type": "code",
   "execution_count": 20,
   "metadata": {},
   "outputs": [
    {
     "name": "stderr",
     "output_type": "stream",
     "text": [
      "Building vocab: 100%|██████████| 62773/62773 [00:33<00:00, 1863.65it/s]\n"
     ]
    },
    {
     "name": "stdout",
     "output_type": "stream",
     "text": [
      "vocab: <__main__.Vocab object at 0x0000025727F32FC8>\n",
      "vocab的大小为: 67869\n"
     ]
    }
   ],
   "source": [
    "\n",
    "'''训练'''\n",
    "\n",
    "# 超参数设置\n",
    "\n",
    "embedding_dim = 128\n",
    "hidden_dim = 24\n",
    "batch_size = 1024\n",
    "num_epoch = 10\n",
    "num_class = 2\n",
    "\n",
    "datapath = \"../dataset/online_shopping_10_cats.csv\"\n",
    "train_data, test_data, vocab = build_data(datapath)\n",
    "\n",
    "\n",
    "print(\"vocab:\",vocab)\n",
    "\n",
    "# 保存vocab到文件\n",
    "def save_vocab_to_txt(vocab, file_path):\n",
    "    with open(file_path, 'w', encoding='utf-8') as f:\n",
    "        for token in vocab.idx_to_token:\n",
    "            f.write(token + '\\n')\n",
    "\n",
    "\n",
    "save_vocab_to_txt(vocab, 'vocab.txt')\n",
    "\n",
    "# 加载数据\n",
    "train_dataset = MyDataset(train_data)\n",
    "test_dataset = MyDataset(test_data)\n",
    "train_data_loader = DataLoader(train_dataset, batch_size=batch_size, collate_fn=collate_fn, shuffle=True)\n",
    "test_data_loader = DataLoader(test_dataset, batch_size=1, collate_fn=collate_fn, shuffle=False)\n",
    "\n",
    "device = torch.device('cuda' if torch.cuda.is_available() else 'cpu')\n",
    "print(\"vocab的大小为:\", len(vocab))\n",
    "model = LSTM(len(vocab), embedding_dim, hidden_dim, num_class)\n",
    "\n",
    "model.to(device)\n",
    "# 加载模型\n",
    "\n",
    "nll_loss = nn.NLLLoss()\n",
    "# 负对数似然损失\n",
    "\n",
    "optimizer = optim.Adam(model.parameters(), lr=0.001)\n",
    "# Adam优化器\n",
    "\n",
    "\n"
   ]
  },
  {
   "attachments": {},
   "cell_type": "markdown",
   "metadata": {},
   "source": [
    "模型训练代码，数据已在上一个模块加载完毕，模型训练结束过后直接保存至当前目录下，并命名"
   ]
  },
  {
   "cell_type": "code",
   "execution_count": 13,
   "metadata": {},
   "outputs": [
    {
     "name": "stderr",
     "output_type": "stream",
     "text": [
      "Training Epoch 0: 100%|██████████| 59/59 [09:57<00:00, 10.13s/it]\n"
     ]
    },
    {
     "name": "stdout",
     "output_type": "stream",
     "text": [
      "Loss:37.03\n"
     ]
    },
    {
     "name": "stderr",
     "output_type": "stream",
     "text": [
      "Training Epoch 1: 100%|██████████| 59/59 [09:52<00:00, 10.05s/it]\n"
     ]
    },
    {
     "name": "stdout",
     "output_type": "stream",
     "text": [
      "Loss:26.74\n"
     ]
    },
    {
     "name": "stderr",
     "output_type": "stream",
     "text": [
      "Training Epoch 2: 100%|██████████| 59/59 [09:45<00:00,  9.93s/it]\n"
     ]
    },
    {
     "name": "stdout",
     "output_type": "stream",
     "text": [
      "Loss:22.08\n"
     ]
    },
    {
     "name": "stderr",
     "output_type": "stream",
     "text": [
      "Training Epoch 3: 100%|██████████| 59/59 [09:59<00:00, 10.15s/it]\n"
     ]
    },
    {
     "name": "stdout",
     "output_type": "stream",
     "text": [
      "Loss:19.59\n"
     ]
    },
    {
     "name": "stderr",
     "output_type": "stream",
     "text": [
      "Training Epoch 4: 100%|██████████| 59/59 [10:18<00:00, 10.48s/it]\n"
     ]
    },
    {
     "name": "stdout",
     "output_type": "stream",
     "text": [
      "Loss:18.11\n"
     ]
    },
    {
     "name": "stderr",
     "output_type": "stream",
     "text": [
      "Training Epoch 5: 100%|██████████| 59/59 [10:59<00:00, 11.19s/it]\n"
     ]
    },
    {
     "name": "stdout",
     "output_type": "stream",
     "text": [
      "Loss:17.24\n"
     ]
    },
    {
     "name": "stderr",
     "output_type": "stream",
     "text": [
      "Training Epoch 6: 100%|██████████| 59/59 [10:42<00:00, 10.89s/it]\n"
     ]
    },
    {
     "name": "stdout",
     "output_type": "stream",
     "text": [
      "Loss:17.04\n"
     ]
    },
    {
     "name": "stderr",
     "output_type": "stream",
     "text": [
      "Training Epoch 7: 100%|██████████| 59/59 [10:37<00:00, 10.80s/it]\n"
     ]
    },
    {
     "name": "stdout",
     "output_type": "stream",
     "text": [
      "Loss:15.76\n"
     ]
    },
    {
     "name": "stderr",
     "output_type": "stream",
     "text": [
      "Training Epoch 8: 100%|██████████| 59/59 [09:28<00:00,  9.63s/it]\n"
     ]
    },
    {
     "name": "stdout",
     "output_type": "stream",
     "text": [
      "Loss:15.37\n"
     ]
    },
    {
     "name": "stderr",
     "output_type": "stream",
     "text": [
      "Training Epoch 9: 100%|██████████| 59/59 [09:43<00:00,  9.89s/it]"
     ]
    },
    {
     "name": "stdout",
     "output_type": "stream",
     "text": [
      "Loss:14.82\n"
     ]
    },
    {
     "name": "stderr",
     "output_type": "stream",
     "text": [
      "\n"
     ]
    }
   ],
   "source": [
    " #模型训练\n",
    "model.train()\n",
    "for epoch in range(num_epoch):\n",
    "    total_loss = 0\n",
    "    for batch in tqdm(train_data_loader, desc=f\"Training Epoch {epoch}\"):\n",
    "        inputs, lengths, targets = [x.to(device) for x in batch]\n",
    "        log_probs = model(inputs, lengths)\n",
    "        loss = nll_loss(log_probs, targets)\n",
    "        optimizer.zero_grad()\n",
    "        loss.backward()\n",
    "        \n",
    "        optimizer.step()\n",
    "        total_loss += loss.item()\n",
    "    print(f\"Loss:{total_loss:.2f}\")\n",
    "\n",
    "# 保存模型参数\n",
    "torch.save(model.state_dict(), 'model_params_onlineShopping.pth')"
   ]
  },
  {
   "cell_type": "code",
   "execution_count": 23,
   "metadata": {},
   "outputs": [
    {
     "name": "stderr",
     "output_type": "stream",
     "text": [
      "Testing: 100%|██████████| 22773/22773 [00:44<00:00, 507.78it/s]"
     ]
    },
    {
     "name": "stdout",
     "output_type": "stream",
     "text": [
      "ACC:0.90\n"
     ]
    },
    {
     "name": "stderr",
     "output_type": "stream",
     "text": [
      "\n"
     ]
    }
   ],
   "source": [
    "# 测试\n",
    "acc = 0\n",
    "for batch in tqdm(test_data_loader, desc=f\"Testing\"):\n",
    "    inputs, lengths, targets = [x.to(device) for x in batch]\n",
    "    with torch.no_grad():\n",
    "        output = model(inputs, lengths)\n",
    "        acc += (output.argmax(dim=1) == targets).sum().item()\n",
    "print(f\"ACC:{acc / len(test_data_loader):.2f}\")"
   ]
  },
  {
   "attachments": {},
   "cell_type": "markdown",
   "metadata": {},
   "source": [
    "若已有模型数据可以跳过上面训练阶段，下方直接载入模型数据"
   ]
  },
  {
   "cell_type": "code",
   "execution_count": 21,
   "metadata": {},
   "outputs": [
    {
     "data": {
      "text/plain": [
       "<All keys matched successfully>"
      ]
     },
     "execution_count": 21,
     "metadata": {},
     "output_type": "execute_result"
    }
   ],
   "source": [
    "model.load_state_dict(torch.load('model_params_onlineShopping.pth'))"
   ]
  },
  {
   "attachments": {},
   "cell_type": "markdown",
   "metadata": {},
   "source": [
    "输入文本预处理函数"
   ]
  },
  {
   "cell_type": "code",
   "execution_count": 15,
   "metadata": {},
   "outputs": [],
   "source": [
    "stop_words_path = '../dataset/cn_stopwords.txt'\n",
    "with open(stop_words_path, encoding=\"utf-8\") as f:\n",
    "    stopwords = set(f.read().splitlines())\n",
    "\n",
    "def preprocess_text(text, stopwords=stopwords):\n",
    "    # 使用结巴分词对文本进行分词\n",
    "    tokens = jieba.cut(text)\n",
    "    # 去除空格并转换为小写\n",
    "    tokens = [token for token in tokens if token not in stopwords]\n",
    "    # 去除停用词等其他预处理步骤...\n",
    "    tokens_data = vocab.convert_tokens_to_ids(tokens)\n",
    "    # 返回分词后的结果\n",
    "    return tokens_data\n"
   ]
  },
  {
   "cell_type": "code",
   "execution_count": 17,
   "metadata": {},
   "outputs": [],
   "source": [
    "\n",
    "# 预测\n",
    "def predict_sentiment(text):\n",
    "    # 加载模型参数\n",
    "    model.load_state_dict(torch.load('model_params_onlineShopping.pth'))\n",
    "    model.eval()  # 将模型设置为评估模式\n",
    "    text_data = preprocess_text(text)\n",
    "    print(\"text data:\",text_data)\n",
    "    text_dataset = MyDataset(text_data)\n",
    "    #inputs = torch.LongTensor(text_dataset).unsqueeze(0).to(device)\n",
    "    #lengths = torch.LongTensor([len(text_dataset)]).to(device)\n",
    "    lengths = torch.tensor(len(text_dataset)).unsqueeze(0)\n",
    "    inputs = [torch.tensor(text_dataset)]\n",
    "    inputs=pad_sequence(inputs,batch_first=True)\n",
    "    with torch.no_grad():\n",
    "        # inputs, lengths, targets= [x.to(device) for x in text_tuple]\n",
    "        output = model(inputs, lengths)\n",
    "        predicted_class = output.argmax(dim=1).item() # 获取预测的类别\n",
    "    print(\"inputs:\", inputs)\n",
    "    print(\"lengths\", lengths)\n",
    "    print(\"predicted:\",predicted_class)\n",
    "    # 返回预测结果\n",
    "    if predicted_class == 0:\n",
    "        return \"Negative\"\n",
    "    elif predicted_class == 1:\n",
    "        return \"Positive\"\n"
   ]
  },
  {
   "attachments": {},
   "cell_type": "markdown",
   "metadata": {},
   "source": [
    "输入文本进行测试"
   ]
  },
  {
   "cell_type": "code",
   "execution_count": 31,
   "metadata": {},
   "outputs": [
    {
     "name": "stdout",
     "output_type": "stream",
     "text": [
      "text data: [10565]\n",
      "inputs: tensor([[10565]])\n",
      "lengths tensor([1])\n",
      "predicted: 1\n",
      "Text: 帅\n",
      "Sentiment: Positive\n",
      "text data: [14212]\n",
      "inputs: tensor([[14212]])\n",
      "lengths tensor([1])\n",
      "predicted: 0\n",
      "Text: 丑\n",
      "Sentiment: Negative\n"
     ]
    }
   ],
   "source": [
    "\n",
    "while (1):\n",
    "    text = input(\"输入文本:\")\n",
    "    if text == 'quit': break\n",
    "    prediction = predict_sentiment(text)\n",
    "    print(f\"Text: {text}\")\n",
    "    print(f\"Sentiment: {prediction}\")"
   ]
  }
 ],
 "metadata": {
  "kernelspec": {
   "display_name": "Python 3",
   "language": "python",
   "name": "python3"
  },
  "language_info": {
   "codemirror_mode": {
    "name": "ipython",
    "version": 3
   },
   "file_extension": ".py",
   "mimetype": "text/x-python",
   "name": "python",
   "nbconvert_exporter": "python",
   "pygments_lexer": "ipython3",
   "version": "3.7.9"
  },
  "orig_nbformat": 4
 },
 "nbformat": 4,
 "nbformat_minor": 2
}
