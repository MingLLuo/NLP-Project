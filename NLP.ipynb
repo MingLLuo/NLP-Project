{
  "cells": [
    {
      "attachments": {},
      "cell_type": "markdown",
      "metadata": {},
      "source": [
        "remember: this is a file for local, not colab, so the path is different"
      ]
    },
    {
      "cell_type": "code",
      "execution_count": null,
      "metadata": {
        "id": "OppyMnCuWjzJ"
      },
      "outputs": [],
      "source": [
        "!pip install kaggle torchtext"
      ]
    },
    {
      "cell_type": "markdown",
      "metadata": {
        "id": "hMY4CFezjcG-"
      },
      "source": [
        "# Authenticating with Kaggle using kaggle.json\n",
        "\n",
        "Navigate to https://www.kaggle.com. Then go to the [Account tab of your user profile](https://www.kaggle.com/me/account) and select Create API Token. This will trigger the download of kaggle.json, a file containing your API credentials.\n",
        "\n",
        "Then run the cell below to upload kaggle.json to your Colab runtime."
      ]
    },
    {
      "cell_type": "code",
      "execution_count": null,
      "metadata": {
        "id": "0HtGf0HEXEa5"
      },
      "outputs": [],
      "source": [
        "# from google.colab import files\n",
        "# ## 上传创建好的API Token的json文件\n",
        "# uploaded = files.upload()\n",
        "\n",
        "# for fn in uploaded.keys():\n",
        "#   print('User uploaded file \"{name}\" with length {length} bytes'.format(\n",
        "#       name=fn, length=len(uploaded[fn])))\n",
        "  \n",
        "# # Then move kaggle.json into the folder where the API expects to find it.\n",
        "# !mkdir -p ~/.kaggle/ && mv kaggle.json ~/.kaggle/ && chmod 600 ~/.kaggle/kaggle.json"
      ]
    },
    {
      "cell_type": "markdown",
      "metadata": {
        "id": "dNke00r6ig3h"
      },
      "source": [
        "## Kaggle 数据集"
      ]
    },
    {
      "cell_type": "code",
      "execution_count": null,
      "metadata": {
        "colab": {
          "base_uri": "https://localhost:8080/"
        },
        "id": "Aojvqv8Gaf8I",
        "outputId": "4032a567-b103-4d73-a7a3-2a5e0f5dae8c"
      },
      "outputs": [],
      "source": [
        "!kaggle datasets download -d yasserh/imdb-movie-ratings-sentiment-analysis\n",
        "!unzip imdb-movie-ratings-sentiment-analysis.zip"
      ]
    },
    {
      "cell_type": "code",
      "execution_count": 3,
      "metadata": {
        "id": "L7ZmFbHybsPk"
      },
      "outputs": [
        {
          "data": {
            "text/html": [
              "<div>\n",
              "<style scoped>\n",
              "    .dataframe tbody tr th:only-of-type {\n",
              "        vertical-align: middle;\n",
              "    }\n",
              "\n",
              "    .dataframe tbody tr th {\n",
              "        vertical-align: top;\n",
              "    }\n",
              "\n",
              "    .dataframe thead th {\n",
              "        text-align: right;\n",
              "    }\n",
              "</style>\n",
              "<table border=\"1\" class=\"dataframe\">\n",
              "  <thead>\n",
              "    <tr style=\"text-align: right;\">\n",
              "      <th></th>\n",
              "      <th>text</th>\n",
              "      <th>label</th>\n",
              "    </tr>\n",
              "  </thead>\n",
              "  <tbody>\n",
              "    <tr>\n",
              "      <th>0</th>\n",
              "      <td>I grew up (b. 1965) watching and loving the Th...</td>\n",
              "      <td>0</td>\n",
              "    </tr>\n",
              "    <tr>\n",
              "      <th>1</th>\n",
              "      <td>When I put this movie in my DVD player, and sa...</td>\n",
              "      <td>0</td>\n",
              "    </tr>\n",
              "    <tr>\n",
              "      <th>2</th>\n",
              "      <td>Why do people who do not know what a particula...</td>\n",
              "      <td>0</td>\n",
              "    </tr>\n",
              "    <tr>\n",
              "      <th>3</th>\n",
              "      <td>Even though I have great interest in Biblical ...</td>\n",
              "      <td>0</td>\n",
              "    </tr>\n",
              "    <tr>\n",
              "      <th>4</th>\n",
              "      <td>Im a die hard Dads Army fan and nothing will e...</td>\n",
              "      <td>1</td>\n",
              "    </tr>\n",
              "  </tbody>\n",
              "</table>\n",
              "</div>"
            ],
            "text/plain": [
              "                                                text  label\n",
              "0  I grew up (b. 1965) watching and loving the Th...      0\n",
              "1  When I put this movie in my DVD player, and sa...      0\n",
              "2  Why do people who do not know what a particula...      0\n",
              "3  Even though I have great interest in Biblical ...      0\n",
              "4  Im a die hard Dads Army fan and nothing will e...      1"
            ]
          },
          "execution_count": 3,
          "metadata": {},
          "output_type": "execute_result"
        }
      ],
      "source": [
        "import pandas as pd \n",
        "import os\n",
        "## data with imdb-movie\n",
        "## https://www.kaggle.com/datasets/yasserh/imdb-movie-ratings-sentiment-analysis\n",
        "basepath = \"\"\n",
        "movie_path = basepath + \"movie.csv\"\n",
        "movie_df = pd.read_csv(movie_path)\n",
        "movie_df.head()"
      ]
    },
    {
      "cell_type": "markdown",
      "metadata": {
        "id": "UYmkV7XqLw3f"
      },
      "source": [
        "## D2L IMDB 数据集"
      ]
    },
    {
      "cell_type": "code",
      "execution_count": null,
      "metadata": {
        "id": "TAsW4MYsb_1k"
      },
      "outputs": [],
      "source": [
        "!wget http://ai.stanford.edu/~amaas/data/sentiment/aclImdb_v1.tar.gz"
      ]
    },
    {
      "cell_type": "code",
      "execution_count": null,
      "metadata": {
        "id": "Lk-UrHdXMcgC"
      },
      "outputs": [],
      "source": [
        "!tar xf aclImdb_v1.tar.gz"
      ]
    },
    {
      "cell_type": "markdown",
      "metadata": {
        "id": "w5Va4fUHwzQu"
      },
      "source": [
        "## 处理"
      ]
    },
    {
      "cell_type": "code",
      "execution_count": 4,
      "metadata": {
        "id": "yA4eM_3Iw4tL"
      },
      "outputs": [
        {
          "name": "stdout",
          "output_type": "stream",
          "text": [
            "20000 20000\n"
          ]
        },
        {
          "data": {
            "text/html": [
              "<div>\n",
              "<style scoped>\n",
              "    .dataframe tbody tr th:only-of-type {\n",
              "        vertical-align: middle;\n",
              "    }\n",
              "\n",
              "    .dataframe tbody tr th {\n",
              "        vertical-align: top;\n",
              "    }\n",
              "\n",
              "    .dataframe thead th {\n",
              "        text-align: right;\n",
              "    }\n",
              "</style>\n",
              "<table border=\"1\" class=\"dataframe\">\n",
              "  <thead>\n",
              "    <tr style=\"text-align: right;\">\n",
              "      <th></th>\n",
              "      <th>sentence</th>\n",
              "      <th>label</th>\n",
              "    </tr>\n",
              "  </thead>\n",
              "  <tbody>\n",
              "    <tr>\n",
              "      <th>12812</th>\n",
              "      <td>Watch this movie .....only to truly appreciate...</td>\n",
              "      <td>0</td>\n",
              "    </tr>\n",
              "    <tr>\n",
              "      <th>33842</th>\n",
              "      <td>The highlight of this movie for me was without...</td>\n",
              "      <td>0</td>\n",
              "    </tr>\n",
              "    <tr>\n",
              "      <th>27705</th>\n",
              "      <td>And again, I find myself in the minority.&lt;br /...</td>\n",
              "      <td>0</td>\n",
              "    </tr>\n",
              "    <tr>\n",
              "      <th>37740</th>\n",
              "      <td>I will not comment on the story as such. I agr...</td>\n",
              "      <td>1</td>\n",
              "    </tr>\n",
              "    <tr>\n",
              "      <th>20217</th>\n",
              "      <td>After a meteorite lands in \"Boston\" (really so...</td>\n",
              "      <td>0</td>\n",
              "    </tr>\n",
              "  </tbody>\n",
              "</table>\n",
              "</div>"
            ],
            "text/plain": [
              "                                                sentence  label\n",
              "12812  Watch this movie .....only to truly appreciate...      0\n",
              "33842  The highlight of this movie for me was without...      0\n",
              "27705  And again, I find myself in the minority.<br /...      0\n",
              "37740  I will not comment on the story as such. I agr...      1\n",
              "20217  After a meteorite lands in \"Boston\" (really so...      0"
            ]
          },
          "execution_count": 4,
          "metadata": {},
          "output_type": "execute_result"
        }
      ],
      "source": [
        "import numpy as np\n",
        "from sklearn.model_selection import train_test_split\n",
        "#划分数据集\n",
        "movie_train, movie_test = train_test_split(movie_df, test_size=0.5, random_state=0)\n",
        "print(len(movie_train), len(movie_test))\n",
        "movie_train.columns = ['sentence','label']\n",
        "movie_train.head()"
      ]
    },
    {
      "cell_type": "code",
      "execution_count": 5,
      "metadata": {
        "id": "cnIMq7ZxMtAC"
      },
      "outputs": [
        {
          "name": "stdout",
          "output_type": "stream",
          "text": [
            "aclImdb/train/pos\n",
            "aclImdb/train/neg\n",
            "                                            sentence label\n",
            "0  Deliverance is a stunning thriller, every bit ...     1\n",
            "1  MPAA:Rated R for Violence,Language,Nudity and ...     1\n",
            "2  One of the best of the Fred Astaire and Giner ...     1\n",
            "3  The only complaint I have about this adaptatio...     1\n",
            "4  Playing out as a sort of pre runner to The Gre...     1\n"
          ]
        }
      ],
      "source": [
        "data_dir = \"aclImdb\"\n",
        "def read_imdb(data_dir, train):\n",
        "    \"\"\"读取IMDb评论数据集文本序列和标签\"\"\"\n",
        "    \"\"\"分别读取训练集与测试集\"\"\"\n",
        "    data, labels = [], []\n",
        "    for label in ('pos', 'neg'):\n",
        "        folder_name = os.path.join(data_dir, 'train' if train else 'test', label)\n",
        "        print(folder_name)\n",
        "        for file in os.listdir(folder_name):\n",
        "          with open(os.path.join(folder_name, file), 'rb') as f:\n",
        "              review = f.read().decode('utf-8').replace('\\n', '')\n",
        "              data.append(review)\n",
        "              labels.append(1 if label == 'pos' else 0)\n",
        "    return data, labels\n",
        "imdb_open = read_imdb(data_dir, True)\n",
        "imdb_train = pd.DataFrame([imdb_open[0], imdb_open[1]]).T\n",
        "imdb_train.columns = ['sentence','label']\n",
        "# 0 data 1 labels\n",
        "# 整合并且打印前五条\n",
        "print(imdb_train.head())"
      ]
    },
    {
      "cell_type": "code",
      "execution_count": 7,
      "metadata": {
        "id": "ewwubEOZV0J1"
      },
      "outputs": [],
      "source": [
        "#使用类的方式避免重复运算\n",
        "class Vocab:\n",
        "    #min_freq：把出现次数少于min_freq的低频率词元视为相同的未知词元视为'<unk>'\n",
        "    def __init__(self, tokens=[], min_freq=0):\n",
        "        # 展开多维的token列表\n",
        "        if tokens and isinstance(tokens[0], list):\n",
        "            tokens = [token for line in tokens for token in line]\n",
        "        # 计算token中对应数据的出现次数，从大到小\n",
        "        counter = collections.Counter(tokens)\n",
        "        self.freqs = sorted(counter.items(), key=lambda x: x[1],\n",
        "                                  reverse=True)\n",
        "        # The list of unique tokens\n",
        "        self.index_to_token = sorted([token for token, freq in self.freqs \n",
        "                                      if freq >= min_freq]) + ['<unk>']\n",
        "        self.token_to_index = {token: idx\n",
        "                             for idx, token in enumerate(self.index_to_token)}\n",
        "\n",
        "    def __len__(self):\n",
        "        return len(self.index_to_token)\n",
        "\n",
        "    def __getitem__(self, tokens):\n",
        "        if not isinstance(tokens, (list, tuple)):\n",
        "            # if not exist '<unk>'\n",
        "            return self.token_to_index.get(tokens, self.token_to_index['<unk>'])\n",
        "        return [self.__getitem__(token) for token in tokens]\n",
        "\n",
        "    def to_tokens(self, indices):\n",
        "        if isinstance(indices, list):\n",
        "            return [self.index_to_token[int(index)] for index in indices]\n",
        "        return self.index_to_token[indices]"
      ]
    },
    {
      "cell_type": "code",
      "execution_count": 8,
      "metadata": {
        "id": "qNi1BpmBP4kA"
      },
      "outputs": [
        {
          "name": "stdout",
          "output_type": "stream",
          "text": [
            "45000                                                 sentence label\n",
            "12812  Watch this movie .....only to truly appreciate...     0\n",
            "33842  The highlight of this movie for me was without...     0\n",
            "27705  And again, I find myself in the minority.<br /...     0\n",
            "37740  I will not comment on the story as such. I agr...     1\n",
            "20217  After a meteorite lands in \"Boston\" (really so...     0\n"
          ]
        }
      ],
      "source": [
        "import string\n",
        "import collections\n",
        "\n",
        "def token_nize(sentence_list):\n",
        "  wordss = []\n",
        "  for s in sentence_list:\n",
        "    words = s.split(\" \")\n",
        "    words = [w.strip(string.punctuation) for w in words]\n",
        "    wordss.append(words)\n",
        "  return wordss\n",
        "\n",
        "## 去除标点符号\n",
        "\n",
        "train_data = pd.concat([movie_train, imdb_train])\n",
        "print(len(train_data), train_data.head())\n",
        "train_tokens = token_nize(train_data[\"sentence\"])\n",
        "\n",
        "#这个词汇表包含了所有在tokens中出现的单词（word）\n",
        "#但是出现次数少于5次的单词将被视为低频词（infrequent words）\n",
        "#并被替换为一个特殊的标记（token）'<unk>'\n",
        "#用于在文本序列长度不一致时进行填充。这个词汇表可以被用于将文本序列转换为数字序列，方便模型进行处理。\n",
        "vocab = Vocab(train_tokens, min_freq=5)"
      ]
    },
    {
      "cell_type": "code",
      "execution_count": 9,
      "metadata": {
        "id": "QB1Lv2UdQlLN"
      },
      "outputs": [],
      "source": [
        "import matplotlib.pyplot as plt"
      ]
    },
    {
      "cell_type": "code",
      "execution_count": 10,
      "metadata": {
        "id": "ogwUKT5dXS9G"
      },
      "outputs": [
        {
          "data": {
            "text/plain": [
              "(array([  997.,  4273., 12240.,  8668.,  5116.,  3338.,  2530.,  1801.,\n",
              "         1359.,  1032.,   794.,   644.,   455.,   382.,   299.,   243.,\n",
              "          197.,   156.,   125.]),\n",
              " array([  0,  50, 100, 150, 200, 250, 300, 350, 400, 450, 500, 550, 600,\n",
              "        650, 700, 750, 800, 850, 900, 950]),\n",
              " <BarContainer object of 19 artists>)"
            ]
          },
          "execution_count": 10,
          "metadata": {},
          "output_type": "execute_result"
        },
        {
          "data": {
            "image/png": "[encoded data removed]",
            "text/plain": [
              "<Figure size 640x480 with 1 Axes>"
            ]
          },
          "metadata": {},
          "output_type": "display_data"
        }
      ],
      "source": [
        "plt.xlabel('# tokens per review')\n",
        "plt.ylabel('count')\n",
        "plt.hist([len(line) for line in train_tokens], bins=range(0, 1000, 50))"
      ]
    },
    {
      "cell_type": "code",
      "execution_count": 11,
      "metadata": {
        "id": "qr4CDN4haa-e"
      },
      "outputs": [
        {
          "name": "stdout",
          "output_type": "stream",
          "text": [
            "torch.Size([45000, 500])\n"
          ]
        }
      ],
      "source": [
        "import torch\n",
        "num_steps = 500  # 序列长度\n",
        "\n",
        "def truncate_pad(line, num_steps, padding_token):\n",
        "    \"\"\"Truncate or pad sequences.\"\"\"\n",
        "    if len(line) > num_steps:\n",
        "        return line[:num_steps]  # Truncate\n",
        "    return line + [padding_token] * (num_steps - len(line))  # Pad\n",
        "\n",
        "\n",
        "train_features = torch.tensor([truncate_pad(\n",
        "    vocab[line], num_steps, vocab['<pad>']) for line in train_tokens])\n",
        "print(train_features.shape)"
      ]
    },
    {
      "cell_type": "code",
      "execution_count": 12,
      "metadata": {},
      "outputs": [],
      "source": [
        "def load_array(data_arrays, batch_size, is_train=True):\n",
        "    \"\"\"构造一个PyTorch数据迭代器。\"\"\"\n",
        "    dataset = torch.utils.data.TensorDataset(*data_arrays)\n",
        "    return torch.utils.data.DataLoader(dataset, batch_size, shuffle=is_train)"
      ]
    },
    {
      "cell_type": "code",
      "execution_count": 13,
      "metadata": {
        "id": "QY45u1rLGi5g"
      },
      "outputs": [],
      "source": [
        "def load_data(batch_size, num_steps=500):\n",
        "    imdb_data_dir = \"aclImdb\"\n",
        "    imdb_train_data = read_imdb(imdb_data_dir, True)\n",
        "    imdb_train = pd.DataFrame([imdb_train_data[0], imdb_train_data[1]]).T\n",
        "    imdb_train.columns = ['sentence','label']\n",
        "    imdb_test_data = read_imdb(imdb_data_dir, False)\n",
        "    imdb_test = pd.DataFrame([imdb_test_data[0], imdb_test_data[1]]).T\n",
        "    imdb_test.columns = ['sentence','label']\n",
        "    \n",
        "    movie_train, movie_test = train_test_split(movie_df, test_size=0.5, random_state=0)\n",
        "    movie_train.columns = ['sentence','label']\n",
        "    movie_test.columns = ['sentence','label']\n",
        "    \n",
        "    train_data = pd.concat([movie_train, imdb_train])\n",
        "    test_data = pd.concat([movie_test, imdb_test])\n",
        "    train_data['label'] = train_data['label'].astype(int)\n",
        "    test_data['label'] = test_data['label'].astype(int)\n",
        "    \n",
        "    train_tokens = token_nize(train_data[\"sentence\"])\n",
        "    test_tokens = token_nize(test_data[\"sentence\"])\n",
        "    vocab = Vocab(train_tokens, min_freq=5)\n",
        "    train_features = torch.tensor([truncate_pad(\n",
        "        vocab[line], num_steps, vocab['<pad>']) for line in train_tokens])\n",
        "    test_features = torch.tensor([truncate_pad(\n",
        "        vocab[line], num_steps, vocab['<pad>']) for line in test_tokens])\n",
        "    train_iter = load_array((train_features, torch.tensor(train_data[\"label\"].values)), batch_size)\n",
        "    test_iter = load_array((test_features, torch.tensor(test_data[\"label\"].values)), batch_size, is_train=False)\n",
        "    return train_iter, test_iter, vocab"
      ]
    },
    {
      "attachments": {},
      "cell_type": "markdown",
      "metadata": {},
      "source": [
        "## 加载数据"
      ]
    },
    {
      "cell_type": "code",
      "execution_count": 14,
      "metadata": {},
      "outputs": [
        {
          "name": "stdout",
          "output_type": "stream",
          "text": [
            "aclImdb/train/pos\n",
            "aclImdb/train/neg\n",
            "aclImdb/test/pos\n",
            "aclImdb/test/neg\n"
          ]
        }
      ],
      "source": [
        "from torch import nn\n",
        "batch_size = 64\n",
        "train_iter, test_iter, vocab = load_data(batch_size)"
      ]
    }
  ],
  "metadata": {
    "colab": {
      "provenance": []
    },
    "kernelspec": {
      "display_name": "Python 3",
      "name": "python3"
    },
    "language_info": {
      "codemirror_mode": {
        "name": "ipython",
        "version": 3
      },
      "file_extension": ".py",
      "mimetype": "text/x-python",
      "name": "python",
      "nbconvert_exporter": "python",
      "pygments_lexer": "ipython3",
      "version": "3.9.16"
    }
  },
  "nbformat": 4,
  "nbformat_minor": 0
}
